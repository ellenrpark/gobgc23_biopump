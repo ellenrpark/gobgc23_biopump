{
 "cells": [
  {
   "cell_type": "code",
   "execution_count": 7,
   "id": "16fc0ef6-26e8-40dd-816b-2c17824230b9",
   "metadata": {},
   "outputs": [],
   "source": [
    "import argopy\n",
    "from argopy import DataFetcher\n",
    "import numpy as np\n",
    "import os"
   ]
  },
  {
   "cell_type": "markdown",
   "id": "bc48534a-eba1-4e21-9630-19951ad63a00",
   "metadata": {},
   "source": [
    "# Use argopy to download get data in specified region\n",
    "Referenced from argppy's juptyer: https://nbviewer.org/github/euroargodev/argopy/blob/master/docs/examples/BGC_region_float_data.ipynb"
   ]
  },
  {
   "cell_type": "markdown",
   "id": "6e783bdf-675e-41e3-8392-c503349e376f",
   "metadata": {},
   "source": [
    "To use argopy's bgc data set, the usermode needs to be set to 'expert' and the data source needs to be set to 'erddap'"
   ]
  },
  {
   "cell_type": "code",
   "execution_count": 8,
   "id": "856b0ae3-242d-41dd-a556-b4f5fdd02b6c",
   "metadata": {},
   "outputs": [],
   "source": [
    "argopy.set_options(src='erddap', mode='expert');"
   ]
  },
  {
   "cell_type": "code",
   "execution_count": 13,
   "id": "c2afca39-a3f1-4672-8a50-53ca3f54cb2c",
   "metadata": {},
   "outputs": [],
   "source": [
    "# region = {'LatS': -60,'LatN': -45, 'LonW': -180, 'LonE': 180,\n",
    "#           'minP':0 ,'maxP': 100,\n",
    "#           'startDate': '2023-01','endDate': '2023-08',\n",
    "#           'BGCParams': ['BBP700', 'CHLA','DOXY', 'NITRATE']}\n",
    "\n",
    "region = {'LatS': -80,'LatN': -45, 'LonW': -180, 'LonE': 180,\n",
    "         'minP':0 ,'maxP': 2000,\n",
    "         'BGCParams': ['BBP700', 'CHLA','DOXY', 'NITRATE','PH_IN_SITU_TOTAL','DOWNWELLING_PAR']}"
   ]
  },
  {
   "cell_type": "markdown",
   "id": "1d7457f2-8e38-4c86-9b9b-272f3c196207",
   "metadata": {},
   "source": [
    "Possible parameters\n",
    "['BBP700',\n",
    " 'CDOM',\n",
    " 'CHLA',\n",
    " 'DOWNWELLING_PAR',\n",
    " 'DOWN_IRRADIANCE380',\n",
    " 'DOWN_IRRADIANCE412',\n",
    " 'DOWN_IRRADIANCE490',\n",
    " 'DOXY',\n",
    " 'NITRATE',\n",
    " 'PH_IN_SITU_TOTAL']\n",
    " Notes:\n",
    " - PH is a little tricky...a lot of nan's"
   ]
  },
  {
   "cell_type": "markdown",
   "id": "cf2763a7-89fe-4f0b-8262-ff449f3d79e8",
   "metadata": {},
   "source": [
    "### Specify that we want data where **ALL** listed BGCParams are not NaNs\n",
    "Smallet possible data set"
   ]
  },
  {
   "cell_type": "code",
   "execution_count": 14,
   "id": "fb2966ee-6066-44bb-a5be-e3ea77f4d244",
   "metadata": {},
   "outputs": [],
   "source": [
    "#BGCDataFetcher = DataFetcher(ds='bgc', measured=region['BGCParams'], parallel=True,\n",
    "#                            progress=True,chunks_maxsize={'time': 30})"
   ]
  },
  {
   "cell_type": "markdown",
   "id": "1604bfbe-3ce9-4289-9a3d-7443b6008992",
   "metadata": {},
   "source": [
    "### Specify that we want **ALL** data where listed BGCParams\n",
    "Largest possible data set"
   ]
  },
  {
   "cell_type": "code",
   "execution_count": 15,
   "id": "35622694-995f-4a1e-8400-b0c8b852188b",
   "metadata": {},
   "outputs": [],
   "source": [
    "BGCDataFetcher = DataFetcher(ds='bgc', params =region['BGCParams'], parallel=True,\n",
    "                             progress=True,chunks_maxsize={'time': 30})"
   ]
  },
  {
   "cell_type": "markdown",
   "id": "43a1347b-ee87-4259-b343-4083d4af70d2",
   "metadata": {},
   "source": [
    "## Get data from specified region and output as a pandas dataframe\n",
    "Notes: There is a timeout limit, so don't ask for too much data at once"
   ]
  },
  {
   "cell_type": "code",
   "execution_count": 16,
   "id": "0e1b6c37-c431-4b12-bcfe-0a92d00afd20",
   "metadata": {},
   "outputs": [
    {
     "name": "stdout",
     "output_type": "stream",
     "text": [
      "Error: 503, message='Service Unavailable', url=URL('https://erddap.ifremer.fr/erddap/info/ArgoFloats-synthetic-BGC/index.json')\n"
     ]
    },
    {
     "ename": "FileNotFoundError",
     "evalue": "https://erddap.ifremer.fr/erddap/info/ArgoFloats-synthetic-BGC/index.json",
     "output_type": "error",
     "traceback": [
      "\u001b[0;31m---------------------------------------------------------------------------\u001b[0m",
      "\u001b[0;31mFileNotFoundError\u001b[0m                         Traceback (most recent call last)",
      "Cell \u001b[0;32mIn[16], line 7\u001b[0m\n\u001b[1;32m      2\u001b[0m     ds \u001b[38;5;241m=\u001b[39m BGCDataFetcher\u001b[38;5;241m.\u001b[39mregion([region[\u001b[38;5;124m'\u001b[39m\u001b[38;5;124mLonW\u001b[39m\u001b[38;5;124m'\u001b[39m], region[\u001b[38;5;124m'\u001b[39m\u001b[38;5;124mLonE\u001b[39m\u001b[38;5;124m'\u001b[39m], region[\u001b[38;5;124m'\u001b[39m\u001b[38;5;124mLatS\u001b[39m\u001b[38;5;124m'\u001b[39m], region[\u001b[38;5;124m'\u001b[39m\u001b[38;5;124mLatN\u001b[39m\u001b[38;5;124m'\u001b[39m], \n\u001b[1;32m      3\u001b[0m                                region[\u001b[38;5;124m'\u001b[39m\u001b[38;5;124mminP\u001b[39m\u001b[38;5;124m'\u001b[39m], region[\u001b[38;5;124m'\u001b[39m\u001b[38;5;124mmaxP\u001b[39m\u001b[38;5;124m'\u001b[39m], \n\u001b[1;32m      4\u001b[0m                                region[\u001b[38;5;124m'\u001b[39m\u001b[38;5;124mstartDate\u001b[39m\u001b[38;5;124m'\u001b[39m], region[\u001b[38;5;124m'\u001b[39m\u001b[38;5;124mendDate\u001b[39m\u001b[38;5;124m'\u001b[39m]])\u001b[38;5;241m.\u001b[39mload()\n\u001b[1;32m      5\u001b[0m \u001b[38;5;28;01melse\u001b[39;00m:\n\u001b[1;32m      6\u001b[0m     \u001b[38;5;66;03m# No date specified...search whole series\u001b[39;00m\n\u001b[0;32m----> 7\u001b[0m     ds \u001b[38;5;241m=\u001b[39m \u001b[43mBGCDataFetcher\u001b[49m\u001b[38;5;241;43m.\u001b[39;49m\u001b[43mregion\u001b[49m\u001b[43m(\u001b[49m\u001b[43m[\u001b[49m\u001b[43mregion\u001b[49m\u001b[43m[\u001b[49m\u001b[38;5;124;43m'\u001b[39;49m\u001b[38;5;124;43mLonW\u001b[39;49m\u001b[38;5;124;43m'\u001b[39;49m\u001b[43m]\u001b[49m\u001b[43m,\u001b[49m\u001b[43m \u001b[49m\u001b[43mregion\u001b[49m\u001b[43m[\u001b[49m\u001b[38;5;124;43m'\u001b[39;49m\u001b[38;5;124;43mLonE\u001b[39;49m\u001b[38;5;124;43m'\u001b[39;49m\u001b[43m]\u001b[49m\u001b[43m,\u001b[49m\u001b[43m \u001b[49m\u001b[43mregion\u001b[49m\u001b[43m[\u001b[49m\u001b[38;5;124;43m'\u001b[39;49m\u001b[38;5;124;43mLatS\u001b[39;49m\u001b[38;5;124;43m'\u001b[39;49m\u001b[43m]\u001b[49m\u001b[43m,\u001b[49m\u001b[43m \u001b[49m\u001b[43mregion\u001b[49m\u001b[43m[\u001b[49m\u001b[38;5;124;43m'\u001b[39;49m\u001b[38;5;124;43mLatN\u001b[39;49m\u001b[38;5;124;43m'\u001b[39;49m\u001b[43m]\u001b[49m\u001b[43m,\u001b[49m\u001b[43m \u001b[49m\n\u001b[1;32m      8\u001b[0m \u001b[43m                               \u001b[49m\u001b[43mregion\u001b[49m\u001b[43m[\u001b[49m\u001b[38;5;124;43m'\u001b[39;49m\u001b[38;5;124;43mminP\u001b[39;49m\u001b[38;5;124;43m'\u001b[39;49m\u001b[43m]\u001b[49m\u001b[43m,\u001b[49m\u001b[43m \u001b[49m\u001b[43mregion\u001b[49m\u001b[43m[\u001b[49m\u001b[38;5;124;43m'\u001b[39;49m\u001b[38;5;124;43mmaxP\u001b[39;49m\u001b[38;5;124;43m'\u001b[39;49m\u001b[43m]\u001b[49m\u001b[43m]\u001b[49m\u001b[43m)\u001b[49m\u001b[38;5;241m.\u001b[39mload()\n\u001b[1;32m     10\u001b[0m df \u001b[38;5;241m=\u001b[39m ds\u001b[38;5;241m.\u001b[39mdata\u001b[38;5;241m.\u001b[39mto_dataframe()\n",
      "File \u001b[0;32m~/opt/anaconda3/envs/gobgc23/lib/python3.11/site-packages/argopy/fetchers.py:58\u001b[0m, in \u001b[0;36mcheckAccessPoint.<locals>.wrapper\u001b[0;34m(*args)\u001b[0m\n\u001b[1;32m     49\u001b[0m \u001b[38;5;28;01mif\u001b[39;00m AccessPoint\u001b[38;5;241m.\u001b[39m\u001b[38;5;18m__name__\u001b[39m \u001b[38;5;129;01mnot\u001b[39;00m \u001b[38;5;129;01min\u001b[39;00m args[\u001b[38;5;241m0\u001b[39m]\u001b[38;5;241m.\u001b[39mvalid_access_points:\n\u001b[1;32m     50\u001b[0m     \u001b[38;5;28;01mraise\u001b[39;00m InvalidFetcherAccessPoint(\n\u001b[1;32m     51\u001b[0m         \u001b[38;5;124m\"\u001b[39m\u001b[38;5;124m'\u001b[39m\u001b[38;5;132;01m%s\u001b[39;00m\u001b[38;5;124m'\u001b[39m\u001b[38;5;124m not available with \u001b[39m\u001b[38;5;124m'\u001b[39m\u001b[38;5;132;01m%s\u001b[39;00m\u001b[38;5;124m'\u001b[39m\u001b[38;5;124m src. Available access point(s): \u001b[39m\u001b[38;5;132;01m%s\u001b[39;00m\u001b[38;5;124m\"\u001b[39m\n\u001b[1;32m     52\u001b[0m         \u001b[38;5;241m%\u001b[39m (\n\u001b[0;32m   (...)\u001b[0m\n\u001b[1;32m     56\u001b[0m         )\n\u001b[1;32m     57\u001b[0m     )\n\u001b[0;32m---> 58\u001b[0m \u001b[38;5;28;01mreturn\u001b[39;00m \u001b[43mAccessPoint\u001b[49m\u001b[43m(\u001b[49m\u001b[38;5;241;43m*\u001b[39;49m\u001b[43margs\u001b[49m\u001b[43m)\u001b[49m\n",
      "File \u001b[0;32m~/opt/anaconda3/envs/gobgc23/lib/python3.11/site-packages/argopy/fetchers.py:445\u001b[0m, in \u001b[0;36mArgoDataFetcher.region\u001b[0;34m(self, box)\u001b[0m\n\u001b[1;32m    423\u001b[0m \u001b[38;5;250m\u001b[39m\u001b[38;5;124;03m\"\"\"Space/time domain data fetcher\u001b[39;00m\n\u001b[1;32m    424\u001b[0m \n\u001b[1;32m    425\u001b[0m \u001b[38;5;124;03mParameters\u001b[39;00m\n\u001b[0;32m   (...)\u001b[0m\n\u001b[1;32m    441\u001b[0m \u001b[38;5;124;03m    A data source fetcher for a space/time domain\u001b[39;00m\n\u001b[1;32m    442\u001b[0m \u001b[38;5;124;03m\"\"\"\u001b[39;00m\n\u001b[1;32m    443\u001b[0m is_box(box, errors\u001b[38;5;241m=\u001b[39m\u001b[38;5;124m\"\u001b[39m\u001b[38;5;124mraise\u001b[39m\u001b[38;5;124m\"\u001b[39m)  \u001b[38;5;66;03m# Validate the box definition\u001b[39;00m\n\u001b[0;32m--> 445\u001b[0m \u001b[38;5;28mself\u001b[39m\u001b[38;5;241m.\u001b[39mfetcher \u001b[38;5;241m=\u001b[39m \u001b[38;5;28;43mself\u001b[39;49m\u001b[38;5;241;43m.\u001b[39;49m\u001b[43mFetchers\u001b[49m\u001b[43m[\u001b[49m\u001b[38;5;124;43m\"\u001b[39;49m\u001b[38;5;124;43mregion\u001b[39;49m\u001b[38;5;124;43m\"\u001b[39;49m\u001b[43m]\u001b[49m\u001b[43m(\u001b[49m\u001b[43mbox\u001b[49m\u001b[38;5;241;43m=\u001b[39;49m\u001b[43mbox\u001b[49m\u001b[43m,\u001b[49m\u001b[43m \u001b[49m\u001b[38;5;241;43m*\u001b[39;49m\u001b[38;5;241;43m*\u001b[39;49m\u001b[38;5;28;43mself\u001b[39;49m\u001b[38;5;241;43m.\u001b[39;49m\u001b[43mfetcher_options\u001b[49m\u001b[43m)\u001b[49m\n\u001b[1;32m    446\u001b[0m \u001b[38;5;28mself\u001b[39m\u001b[38;5;241m.\u001b[39m_AccessPoint \u001b[38;5;241m=\u001b[39m \u001b[38;5;124m\"\u001b[39m\u001b[38;5;124mregion\u001b[39m\u001b[38;5;124m\"\u001b[39m  \u001b[38;5;66;03m# Register the requested access point\u001b[39;00m\n\u001b[1;32m    447\u001b[0m \u001b[38;5;28mself\u001b[39m\u001b[38;5;241m.\u001b[39m_AccessPoint_data \u001b[38;5;241m=\u001b[39m {\n\u001b[1;32m    448\u001b[0m     \u001b[38;5;124m\"\u001b[39m\u001b[38;5;124mbox\u001b[39m\u001b[38;5;124m\"\u001b[39m: box\n\u001b[1;32m    449\u001b[0m }  \u001b[38;5;66;03m# Register the requested access point data\u001b[39;00m\n",
      "File \u001b[0;32m~/opt/anaconda3/envs/gobgc23/lib/python3.11/site-packages/argopy/data_fetchers/erddap_data.py:186\u001b[0m, in \u001b[0;36mErddapArgoDataFetcher.__init__\u001b[0;34m(self, ds, cache, cachedir, parallel, parallel_method, progress, chunks, chunks_maxsize, api_timeout, params, measured, **kwargs)\u001b[0m\n\u001b[1;32m    177\u001b[0m \u001b[38;5;28mself\u001b[39m\u001b[38;5;241m.\u001b[39mindexfs \u001b[38;5;241m=\u001b[39m kwargs[\u001b[38;5;124m'\u001b[39m\u001b[38;5;124mindexfs\u001b[39m\u001b[38;5;124m'\u001b[39m] \u001b[38;5;28;01mif\u001b[39;00m \u001b[38;5;124m'\u001b[39m\u001b[38;5;124mindexfs\u001b[39m\u001b[38;5;124m'\u001b[39m \u001b[38;5;129;01min\u001b[39;00m kwargs \u001b[38;5;28;01melse\u001b[39;00m ArgoIndex(\n\u001b[1;32m    178\u001b[0m     index_file\u001b[38;5;241m=\u001b[39m\u001b[38;5;124m'\u001b[39m\u001b[38;5;124margo_synthetic-profile_index.txt\u001b[39m\u001b[38;5;124m'\u001b[39m,  \u001b[38;5;66;03m# the only available in the erddap\u001b[39;00m\n\u001b[1;32m    179\u001b[0m     cache\u001b[38;5;241m=\u001b[39mkwargs[\u001b[38;5;124m'\u001b[39m\u001b[38;5;124mcache_index\u001b[39m\u001b[38;5;124m'\u001b[39m] \u001b[38;5;28;01mif\u001b[39;00m \u001b[38;5;124m'\u001b[39m\u001b[38;5;124mcache_index\u001b[39m\u001b[38;5;124m'\u001b[39m \u001b[38;5;129;01min\u001b[39;00m kwargs \u001b[38;5;28;01melse\u001b[39;00m cache,\n\u001b[1;32m    180\u001b[0m     cachedir\u001b[38;5;241m=\u001b[39mcachedir,\n\u001b[1;32m    181\u001b[0m     timeout\u001b[38;5;241m=\u001b[39mtimeout,\n\u001b[1;32m    182\u001b[0m )\n\u001b[1;32m    184\u001b[0m \u001b[38;5;66;03m# To handle bugs in the erddap server, we need the list of parameters on the server:\u001b[39;00m\n\u001b[1;32m    185\u001b[0m \u001b[38;5;66;03m# todo: Remove this when bug fixed\u001b[39;00m\n\u001b[0;32m--> 186\u001b[0m data \u001b[38;5;241m=\u001b[39m \u001b[38;5;28;43mself\u001b[39;49m\u001b[38;5;241;43m.\u001b[39;49m\u001b[43mfs\u001b[49m\u001b[38;5;241;43m.\u001b[39;49m\u001b[43mopen_json\u001b[49m\u001b[43m(\u001b[49m\n\u001b[1;32m    187\u001b[0m \u001b[43m    \u001b[49m\u001b[38;5;28;43mself\u001b[39;49m\u001b[38;5;241;43m.\u001b[39;49m\u001b[43mserver\u001b[49m\u001b[43m \u001b[49m\u001b[38;5;241;43m+\u001b[39;49m\u001b[43m \u001b[49m\u001b[38;5;124;43m\"\u001b[39;49m\u001b[38;5;124;43m/info/ArgoFloats-synthetic-BGC/index.json\u001b[39;49m\u001b[38;5;124;43m\"\u001b[39;49m\n\u001b[1;32m    188\u001b[0m \u001b[43m\u001b[49m\u001b[43m)\u001b[49m\n\u001b[1;32m    189\u001b[0m \u001b[38;5;28mself\u001b[39m\u001b[38;5;241m.\u001b[39m_bgc_vlist_erddap \u001b[38;5;241m=\u001b[39m [\n\u001b[1;32m    190\u001b[0m     row[\u001b[38;5;241m1\u001b[39m] \u001b[38;5;28;01mfor\u001b[39;00m row \u001b[38;5;129;01min\u001b[39;00m data[\u001b[38;5;124m\"\u001b[39m\u001b[38;5;124mtable\u001b[39m\u001b[38;5;124m\"\u001b[39m][\u001b[38;5;124m\"\u001b[39m\u001b[38;5;124mrows\u001b[39m\u001b[38;5;124m\"\u001b[39m] \u001b[38;5;28;01mif\u001b[39;00m row[\u001b[38;5;241m0\u001b[39m] \u001b[38;5;241m==\u001b[39m \u001b[38;5;124m\"\u001b[39m\u001b[38;5;124mvariable\u001b[39m\u001b[38;5;124m\"\u001b[39m\n\u001b[1;32m    191\u001b[0m ]\n\u001b[1;32m    193\u001b[0m \u001b[38;5;66;03m# Handle the 'params' argument:\u001b[39;00m\n",
      "File \u001b[0;32m~/opt/anaconda3/envs/gobgc23/lib/python3.11/site-packages/argopy/stores/filesystems.py:1185\u001b[0m, in \u001b[0;36mhttpstore.open_json\u001b[0;34m(self, url, **kwargs)\u001b[0m\n\u001b[1;32m   1173\u001b[0m \u001b[38;5;28;01mdef\u001b[39;00m \u001b[38;5;21mopen_json\u001b[39m(\u001b[38;5;28mself\u001b[39m, url, \u001b[38;5;241m*\u001b[39m\u001b[38;5;241m*\u001b[39mkwargs):\n\u001b[1;32m   1174\u001b[0m \u001b[38;5;250m    \u001b[39m\u001b[38;5;124;03m\"\"\"Return a json from an url, or verbose errors\u001b[39;00m\n\u001b[1;32m   1175\u001b[0m \n\u001b[1;32m   1176\u001b[0m \u001b[38;5;124;03m    Parameters\u001b[39;00m\n\u001b[0;32m   (...)\u001b[0m\n\u001b[1;32m   1183\u001b[0m \n\u001b[1;32m   1184\u001b[0m \u001b[38;5;124;03m    \"\"\"\u001b[39;00m\n\u001b[0;32m-> 1185\u001b[0m     data \u001b[38;5;241m=\u001b[39m \u001b[38;5;28;43mself\u001b[39;49m\u001b[38;5;241;43m.\u001b[39;49m\u001b[43mdownload_url\u001b[49m\u001b[43m(\u001b[49m\u001b[43murl\u001b[49m\u001b[43m)\u001b[49m\n\u001b[1;32m   1186\u001b[0m     js \u001b[38;5;241m=\u001b[39m json\u001b[38;5;241m.\u001b[39mloads(data, \u001b[38;5;241m*\u001b[39m\u001b[38;5;241m*\u001b[39mkwargs)\n\u001b[1;32m   1187\u001b[0m     \u001b[38;5;28;01mif\u001b[39;00m \u001b[38;5;28mlen\u001b[39m(js) \u001b[38;5;241m==\u001b[39m \u001b[38;5;241m0\u001b[39m:\n",
      "File \u001b[0;32m~/opt/anaconda3/envs/gobgc23/lib/python3.11/site-packages/argopy/stores/filesystems.py:686\u001b[0m, in \u001b[0;36mhttpstore.download_url\u001b[0;34m(self, url, n_attempt, max_attempt, cat_opts, *args, **kwargs)\u001b[0m\n\u001b[1;32m    677\u001b[0m data, n \u001b[38;5;241m=\u001b[39m make_request(\n\u001b[1;32m    678\u001b[0m     \u001b[38;5;28mself\u001b[39m\u001b[38;5;241m.\u001b[39mfs,\n\u001b[1;32m    679\u001b[0m     url,\n\u001b[0;32m   (...)\u001b[0m\n\u001b[1;32m    682\u001b[0m     cat_opts\u001b[38;5;241m=\u001b[39mcat_opts,\n\u001b[1;32m    683\u001b[0m )\n\u001b[1;32m    685\u001b[0m \u001b[38;5;28;01mif\u001b[39;00m data \u001b[38;5;129;01mis\u001b[39;00m \u001b[38;5;28;01mNone\u001b[39;00m:\n\u001b[0;32m--> 686\u001b[0m     \u001b[38;5;28;01mraise\u001b[39;00m \u001b[38;5;167;01mFileNotFoundError\u001b[39;00m(url)\n\u001b[1;32m    688\u001b[0m \u001b[38;5;28;01mreturn\u001b[39;00m data\n",
      "\u001b[0;31mFileNotFoundError\u001b[0m: https://erddap.ifremer.fr/erddap/info/ArgoFloats-synthetic-BGC/index.json"
     ]
    }
   ],
   "source": [
    "if 'startDate' in list(region.keys()):\n",
    "    ds = BGCDataFetcher.region([region['LonW'], region['LonE'], region['LatS'], region['LatN'], \n",
    "                               region['minP'], region['maxP'], \n",
    "                               region['startDate'], region['endDate']]).load()\n",
    "else:\n",
    "    # No date specified...search whole series\n",
    "    ds = BGCDataFetcher.region([region['LonW'], region['LonE'], region['LatS'], region['LatN'], \n",
    "                               region['minP'], region['maxP']]).load()\n",
    "\n",
    "df = ds.data.to_dataframe()"
   ]
  },
  {
   "cell_type": "markdown",
   "id": "1dc9b542-225c-4e4e-b2b4-983e1e1e635c",
   "metadata": {},
   "source": [
    "## Reformat argopy table to quality control the data"
   ]
  },
  {
   "cell_type": "code",
   "execution_count": null,
   "id": "d0cefa1b-efb1-4b70-9ef8-9a7c268d4064",
   "metadata": {},
   "outputs": [],
   "source": [
    "def QualityControlByParam(p, df):\n",
    "    # p: param name (ex: PRES)\n",
    "    # df: argopy dataframe\n",
    "    \n",
    "    raw = df.loc[:,p].values\n",
    "    raw_qc = df.loc[:,p+'_QC'].values\n",
    "    adj = df.loc[:,p+'_ADJUSTED'].values\n",
    "    adj_qc = df.loc[:,p+'_ADJUSTED_QC'].values\n",
    "    dmode = df.loc[:,p+'_DATA_MODE'].values\n",
    "\n",
    "    data = np.zeros(raw.shape[0])*np.NaN\n",
    "    data_qc = np.zeros(raw.shape[0])*np.NaN\n",
    "\n",
    "    # Determine if use real-time or delayed-mode data\n",
    "    data = np.where(dmode=='R',raw,adj)\n",
    "    data_qc = np.where(dmode=='R',raw_qc,adj_qc)\n",
    "\n",
    "    # Quality control data\n",
    "    data = np.where(np.logical_and(data_qc<=2, data_qc>0), data, np.NaN)\n",
    "\n",
    "    return data, data_qc"
   ]
  },
  {
   "cell_type": "code",
   "execution_count": null,
   "id": "36723ddb-cd7a-467a-9b9c-08e655fa1c30",
   "metadata": {},
   "outputs": [],
   "source": [
    "# Reformat argopy data frame\n",
    "cnames = ['CONFIG_MISSION_NUMBER',\n",
    " 'CYCLE_NUMBER',\n",
    " 'DIRECTION',\n",
    " 'PLATFORM_NUMBER',\n",
    " 'POSITION_QC',\n",
    " 'LATITUDE',\n",
    " 'LONGITUDE',\n",
    " 'TIME']\n",
    "\n",
    "df_new = df.loc[:,cnames]"
   ]
  },
  {
   "cell_type": "code",
   "execution_count": null,
   "id": "c57978a8-9d8a-4b22-b8c8-a43c1aad6ead",
   "metadata": {},
   "outputs": [],
   "source": [
    "params = ['PRES','TEMP','PSAL']+region['BGCParams']\n",
    "for p in params:\n",
    "    data, data_qc = QualityControlByParam(p, df)\n",
    "    df_new[p] = data\n",
    "    df_new[p+'_QC'] = data_qc"
   ]
  },
  {
   "cell_type": "markdown",
   "id": "bbea6904-6d8b-4f9c-9c77-90e63570a190",
   "metadata": {},
   "source": [
    "## Save data to csv file specifying data bounds in file name\n",
    "Data will save in csv_output directory"
   ]
  },
  {
   "cell_type": "code",
   "execution_count": null,
   "id": "041404aa-6062-4335-8548-3df23f83551b",
   "metadata": {},
   "outputs": [],
   "source": [
    "if 'startDate' in list(region.keys()):\n",
    "    fname = 'argopy_ouput_LatN_'+str(np.round(region['LatN'],0))+'_LatS_'+str(np.round(region['LatS'],0))+\\\n",
    "    '_LonE_'+str(np.round(region['LonE'],0))+'_LonW_'+str(np.round(region['LonW'],0))+\\\n",
    "    '_minP_'+str(np.round(region['minP'],0))+'_maxP'+str(np.round(region['maxP'],0))+\\\n",
    "    '_SDate_'+region['startDate']+'_EDate_'+region['endDate']+'_PARAMS_'+'_'.join(region['BGCParams'])+'.csv'\n",
    "else:\n",
    "    fname = 'argopy_ouput_LatN_'+str(np.round(region['LatN'],0))+'_LatS_'+str(np.round(region['LatS'],0))+\\\n",
    "    '_LonE_'+str(np.round(region['LonE'],0))+'_LonW_'+str(np.round(region['LonW'],0))+\\\n",
    "    '_minP_'+str(np.round(region['minP'],0))+'_maxP'+str(np.round(region['maxP'],0))+\\\n",
    "    '_Date_ALL_PARAMS_'+'_'.join(region['BGCParams'])+'.csv'"
   ]
  },
  {
   "cell_type": "code",
   "execution_count": null,
   "id": "18ae3026-a89d-471c-abc6-2cc622a62927",
   "metadata": {},
   "outputs": [],
   "source": [
    "if os.path.exists('csv_output/'):\n",
    "    df_new.to_csv('csv_output/'+fname)\n",
    "else:\n",
    "    os.makedirs('csv_output/')\n",
    "    df_new.to_csv('csv_output/'+fname)"
   ]
  },
  {
   "cell_type": "code",
   "execution_count": null,
   "id": "bd66cf52-9b9f-4124-851a-308f35c35f6f",
   "metadata": {},
   "outputs": [],
   "source": []
  }
 ],
 "metadata": {
  "kernelspec": {
   "display_name": "Python [conda env:gobgc23] *",
   "language": "python",
   "name": "conda-env-gobgc23-py"
  },
  "language_info": {
   "codemirror_mode": {
    "name": "ipython",
    "version": 3
   },
   "file_extension": ".py",
   "mimetype": "text/x-python",
   "name": "python",
   "nbconvert_exporter": "python",
   "pygments_lexer": "ipython3",
   "version": "3.11.4"
  }
 },
 "nbformat": 4,
 "nbformat_minor": 5
}
