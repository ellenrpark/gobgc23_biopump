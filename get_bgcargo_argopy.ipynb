{
 "cells": [
  {
   "cell_type": "code",
   "execution_count": 27,
   "id": "16fc0ef6-26e8-40dd-816b-2c17824230b9",
   "metadata": {},
   "outputs": [],
   "source": [
    "import argopy\n",
    "from argopy import DataFetcher\n",
    "import numpy as np\n",
    "import os"
   ]
  },
  {
   "cell_type": "markdown",
   "id": "bc48534a-eba1-4e21-9630-19951ad63a00",
   "metadata": {},
   "source": [
    "# Use argopy to download get data in specified region"
   ]
  },
  {
   "cell_type": "markdown",
   "id": "6e783bdf-675e-41e3-8392-c503349e376f",
   "metadata": {},
   "source": [
    "To use argopy's bgc data set, the usermode needs to be set to 'expert' and the data source needs to be set to 'erddap'"
   ]
  },
  {
   "cell_type": "code",
   "execution_count": 2,
   "id": "856b0ae3-242d-41dd-a556-b4f5fdd02b6c",
   "metadata": {},
   "outputs": [],
   "source": [
    "argopy.set_options(src='erddap', mode='expert');"
   ]
  },
  {
   "cell_type": "code",
   "execution_count": 35,
   "id": "c2afca39-a3f1-4672-8a50-53ca3f54cb2c",
   "metadata": {},
   "outputs": [],
   "source": [
    "region = {'LatN': 30, 'LatS': 20, 'LonE': -45, 'LonW': -75,\n",
    "         'minP':0 ,'maxP': 10,\n",
    "         'startDate': '2020-01','endDate': '2020-02',\n",
    "         'BGCParams': ['DOXY','BBP700']}"
   ]
  },
  {
   "cell_type": "markdown",
   "id": "cf2763a7-89fe-4f0b-8262-ff449f3d79e8",
   "metadata": {},
   "source": [
    "Specify that we want data where listed BGCParams are not NaNs"
   ]
  },
  {
   "cell_type": "code",
   "execution_count": 4,
   "id": "fb2966ee-6066-44bb-a5be-e3ea77f4d244",
   "metadata": {},
   "outputs": [],
   "source": [
    "BGCDataFetcher = DataFetcher(ds='bgc', measured=region['BGCParams'])"
   ]
  },
  {
   "cell_type": "markdown",
   "id": "43a1347b-ee87-4259-b343-4083d4af70d2",
   "metadata": {},
   "source": [
    "## Get data from specified region and output as a pandas dataframe"
   ]
  },
  {
   "cell_type": "code",
   "execution_count": 5,
   "id": "0e1b6c37-c431-4b12-bcfe-0a92d00afd20",
   "metadata": {},
   "outputs": [],
   "source": [
    "df = BGCDataFetcher.region([region['LonW'], region['LonE'], region['LatS'], region['LatN'], \n",
    "                           region['minP'], region['maxP'], \n",
    "                           region['startDate'], region['endDate']]).to_dataframe()"
   ]
  },
  {
   "cell_type": "code",
   "execution_count": 6,
   "id": "dd7515f2-75be-4d75-a446-f7a3868bb171",
   "metadata": {},
   "outputs": [],
   "source": [
    "# ds = BGCDataFetcher.region([region['LonW'], region['LonE'], region['LatS'], region['LatN'], \n",
    "#                            region['minP'], region['maxP'], \n",
    "#                            region['startDate'], region['endDate']]).to_xarray()"
   ]
  },
  {
   "cell_type": "markdown",
   "id": "1dc9b542-225c-4e4e-b2b4-983e1e1e635c",
   "metadata": {},
   "source": [
    "## Reformat argopy table to quality control the data"
   ]
  },
  {
   "cell_type": "code",
   "execution_count": 7,
   "id": "d0cefa1b-efb1-4b70-9ef8-9a7c268d4064",
   "metadata": {},
   "outputs": [],
   "source": [
    "def QualityControlByParam(p, df):\n",
    "    # p: param name (ex: PRES)\n",
    "    # df: argopy dataframe\n",
    "    \n",
    "    raw = df.loc[:,p].values\n",
    "    raw_qc = df.loc[:,p+'_QC'].values\n",
    "    adj = df.loc[:,p+'_ADJUSTED'].values\n",
    "    adj_qc = df.loc[:,p+'_ADJUSTED_QC'].values\n",
    "    dmode = df.loc[:,p+'_DATA_MODE'].values\n",
    "\n",
    "    data = np.zeros(raw.shape[0])*np.NaN\n",
    "    data_qc = np.zeros(raw.shape[0])*np.NaN\n",
    "\n",
    "    # Determine if use real-time or delayed-mode data\n",
    "    data = np.where(dmode=='R',raw,adj)\n",
    "    data_qc = np.where(dmode=='R',raw_qc,adj_qc)\n",
    "\n",
    "    # Quality control data\n",
    "    data = np.where(data_qc<=2, data, np.NaN)\n",
    "\n",
    "    return data, data_qc"
   ]
  },
  {
   "cell_type": "code",
   "execution_count": 8,
   "id": "36723ddb-cd7a-467a-9b9c-08e655fa1c30",
   "metadata": {},
   "outputs": [],
   "source": [
    "# Reformat argopy data frame\n",
    "cnames = ['CONFIG_MISSION_NUMBER',\n",
    " 'CYCLE_NUMBER',\n",
    " 'DIRECTION',\n",
    " 'PLATFORM_NUMBER',\n",
    " 'POSITION_QC',\n",
    " 'LATITUDE',\n",
    " 'LONGITUDE',\n",
    " 'TIME']\n",
    "\n",
    "df_new = df.loc[:,cnames]"
   ]
  },
  {
   "cell_type": "code",
   "execution_count": 30,
   "id": "c57978a8-9d8a-4b22-b8c8-a43c1aad6ead",
   "metadata": {},
   "outputs": [],
   "source": [
    "params = ['PRES','TEMP','PSAL','DOXY']\n",
    "for p in params:\n",
    "    data, data_qc = QualityControlByParam(p, df)\n",
    "    df_new[p] = data\n",
    "    df_new[p+'_QC'] = data_qc"
   ]
  },
  {
   "cell_type": "markdown",
   "id": "bbea6904-6d8b-4f9c-9c77-90e63570a190",
   "metadata": {},
   "source": [
    "## Save data to csv file specifying data bounds in file name\n",
    "Data will save in csv_output directory"
   ]
  },
  {
   "cell_type": "code",
   "execution_count": 41,
   "id": "041404aa-6062-4335-8548-3df23f83551b",
   "metadata": {},
   "outputs": [],
   "source": [
    "fname = 'argopy_ouput_LatN_'+str(np.round(region['LatN'],0))+'_LatS_'+str(np.round(region['LatS'],0))+\\\n",
    "'_LonE_'+str(np.round(region['LonE'],0))+'_LonW_'+str(np.round(region['LonW'],0))+\\\n",
    "'_minP_'+str(np.round(region['minP'],0))+'_maxP'+str(np.round(region['maxP'],0))+\\\n",
    "'_SDate_'+region['startDate']+'_EDate_'+region['endDate']+'_PARAMS_'+'_'.join(region['BGCParams'])+'.csv'"
   ]
  },
  {
   "cell_type": "code",
   "execution_count": 29,
   "id": "18ae3026-a89d-471c-abc6-2cc622a62927",
   "metadata": {},
   "outputs": [],
   "source": [
    "if os.path.exists('csv_output/'):\n",
    "    df_new.to_csv('csv_output/'+fname)\n",
    "else:\n",
    "    os.makedirs('csv_output/')\n",
    "    df_new.to_csv('csv_output/'+fname)"
   ]
  }
 ],
 "metadata": {
  "kernelspec": {
   "display_name": "Python [conda env:gobgc23] *",
   "language": "python",
   "name": "conda-env-gobgc23-py"
  },
  "language_info": {
   "codemirror_mode": {
    "name": "ipython",
    "version": 3
   },
   "file_extension": ".py",
   "mimetype": "text/x-python",
   "name": "python",
   "nbconvert_exporter": "python",
   "pygments_lexer": "ipython3",
   "version": "3.11.4"
  }
 },
 "nbformat": 4,
 "nbformat_minor": 5
}
